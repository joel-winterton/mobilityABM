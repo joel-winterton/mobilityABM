{
 "cells": [
  {
   "metadata": {},
   "cell_type": "markdown",
   "source": [
    "# Commuters and Epidemics\n",
    "Commuter data is often used in spatial modelling of epidemics as the flux (or to fit the flux) between patches.\n",
    "What are the consequences of this? People don't just commute. Here I fit commuter data to parts of a d-EPR model based in the UK, using ONLY commuters (so people who aren't commuters don't exist). I then run an epidemic simulation on both commuter-based data and d-EPR based data (which includes commuters non-commuting trips) to see the difference.\n",
    "\n",
    "Considering only the commuting population is needed to avoid much hassle of choosing what individuals in the d-EPR model are commuters. It's hoped that there will still be a difference, even when just considering commuters."
   ],
   "id": "c40a0216e47c60a5"
  },
  {
   "metadata": {},
   "cell_type": "markdown",
   "source": [
    "## Data\n",
    "Information about data sources can be found in `commuter_data` folder."
   ],
   "id": "5c865d67d0b74229"
  },
  {
   "metadata": {
    "ExecuteTime": {
     "end_time": "2025-01-27T15:17:31.010765Z",
     "start_time": "2025-01-27T15:17:31.008420Z"
    }
   },
   "cell_type": "code",
   "source": [
    "import pandas as pd\n",
    "import numpy as np\n",
    "from scipy.sparse import coo_array\n",
    "import matplotlib.pyplot as plt"
   ],
   "id": "6d7318bf30b892fe",
   "outputs": [],
   "execution_count": 20
  },
  {
   "cell_type": "code",
   "id": "initial_id",
   "metadata": {
    "collapsed": true,
    "ExecuteTime": {
     "end_time": "2025-01-28T13:15:22.607964Z",
     "start_time": "2025-01-28T13:15:22.582932Z"
    }
   },
   "source": [
    "## Data\n",
    "commuter_matrix = pd.read_csv(\"commuter_data/commuter_matrix.csv\", index_col=0)\n",
    "distance_matrix = pd.read_csv(\"commuter_data/centroid_distances.csv\", index_col=0)\n",
    "num_of_patches = len(commuter_matrix)\n",
    "patch_ids = commuter_matrix.index.values"
   ],
   "outputs": [
    {
     "data": {
      "text/plain": [
       "(363, 363)"
      ]
     },
     "execution_count": 36,
     "metadata": {},
     "output_type": "execute_result"
    }
   ],
   "execution_count": 36
  },
  {
   "metadata": {},
   "cell_type": "markdown",
   "source": [
    "## Distance kernel\n",
    "Compile a global distance kernel"
   ],
   "id": "90705bf68a6e7f9c"
  },
  {
   "metadata": {
    "ExecuteTime": {
     "end_time": "2025-01-27T15:16:24.500579Z",
     "start_time": "2025-01-27T15:16:24.497826Z"
    }
   },
   "cell_type": "code",
   "source": "max_distance = distance_matrix.values.max()",
   "id": "b87477e459736b55",
   "outputs": [],
   "execution_count": 12
  },
  {
   "metadata": {
    "ExecuteTime": {
     "end_time": "2025-01-27T15:28:12.689847Z",
     "start_time": "2025-01-27T15:28:12.057650Z"
    }
   },
   "cell_type": "code",
   "source": [
    "global_kernel = np.zeros(max_distance+1)\n",
    "for i in patch_ids:\n",
    "    for j in patch_ids:\n",
    "        if i == j:\n",
    "            continue\n",
    "        distance = distance_matrix.loc[i, j]\n",
    "        flux = commuter_matrix.loc[i, j]\n",
    "        global_kernel[distance] += flux"
   ],
   "id": "2d076376ffd60a38",
   "outputs": [],
   "execution_count": 25
  },
  {
   "metadata": {
    "ExecuteTime": {
     "end_time": "2025-01-27T15:31:54.172697Z",
     "start_time": "2025-01-27T15:31:54.127548Z"
    }
   },
   "cell_type": "code",
   "source": [
    "prob_range, prob = np.arange(max_distance+1), global_kernel/global_kernel.sum()\n",
    "plt.scatter(prob_range[0:100], np.log(prob[:100]), s=1)\n",
    "plt.show()"
   ],
   "id": "29587461eab1418b",
   "outputs": [
    {
     "name": "stderr",
     "output_type": "stream",
     "text": [
      "/var/folders/rw/bnfc8gsn7pbbrw8dc7r76x740000gn/T/ipykernel_90998/4101616700.py:2: RuntimeWarning: divide by zero encountered in log\n",
      "  plt.scatter(prob_range[0:100], np.log(prob[:100]), s=1)\n"
     ]
    },
    {
     "data": {
      "text/plain": [
       "<Figure size 640x480 with 1 Axes>"
      ],
      "image/png": "[encoded data removed]"
     },
     "metadata": {},
     "output_type": "display_data"
    }
   ],
   "execution_count": 35
  },
  {
   "metadata": {},
   "cell_type": "code",
   "outputs": [],
   "execution_count": null,
   "source": [
    "xclass Commuters:\n",
    "    def __init__(self):"
   ],
   "id": "3429b46fecc88c0"
  }
 ],
 "metadata": {
  "kernelspec": {
   "display_name": "Python 3",
   "language": "python",
   "name": "python3"
  },
  "language_info": {
   "codemirror_mode": {
    "name": "ipython",
    "version": 2
   },
   "file_extension": ".py",
   "mimetype": "text/x-python",
   "name": "python",
   "nbconvert_exporter": "python",
   "pygments_lexer": "ipython2",
   "version": "2.7.6"
  }
 },
 "nbformat": 4,
 "nbformat_minor": 5
}
