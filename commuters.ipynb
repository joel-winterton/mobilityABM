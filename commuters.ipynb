{
 "cells": [
  {
   "metadata": {},
   "cell_type": "markdown",
   "source": [
    "# Commuters and Epidemics\n",
    "Commuter data is often used in spatial modelling of epidemics as the flux (or to fit the flux) between patches.\n",
    "What are the consequences of this? People don't just commute. Here I fit commuter data to parts of a d-EPR model based in the UK, using ONLY commuters (so people who aren't commuters don't exist). I then run an epidemic simulation on both commuter-based data and d-EPR based data (which includes commuters non-commuting trips) to see the difference.\n",
    "\n",
    "Considering only the commuting population is needed to avoid much hassle of choosing what individuals in the d-EPR model are commuters. It's hoped that there will still be a difference, even when just considering commuters."
   ],
   "id": "c40a0216e47c60a5"
  },
  {
   "metadata": {},
   "cell_type": "markdown",
   "source": [
    "## Data\n",
    "Information about data sources can be found in `commuter_data` folder."
   ],
   "id": "5c865d67d0b74229"
  },
  {
   "metadata": {
    "ExecuteTime": {
     "end_time": "2025-01-22T12:13:59.772384Z",
     "start_time": "2025-01-22T12:13:59.171587Z"
    }
   },
   "cell_type": "code",
   "source": [
    "import pandas as pd\n",
    "import numpy as np\n",
    "from scipy.sparse import coo_array"
   ],
   "id": "6d7318bf30b892fe",
   "outputs": [],
   "execution_count": 10
  },
  {
   "cell_type": "code",
   "id": "initial_id",
   "metadata": {
    "collapsed": true,
    "ExecuteTime": {
     "end_time": "2025-01-22T11:38:41.550780Z",
     "start_time": "2025-01-22T11:38:41.521235Z"
    }
   },
   "source": [
    "## Data\n",
    "commuter_matrix = pd.read_csv(\"commuter_data/commuter_matrix.csv\", index_col=0)\n",
    "distance_matrix = pd.read_csv(\"commuter_data/centroid_distances.csv\", index_col=0)\n",
    "num_of_patches = len(commuter_matrix)"
   ],
   "outputs": [],
   "execution_count": 3
  },
  {
   "metadata": {
    "ExecuteTime": {
     "end_time": "2025-01-22T12:15:44.187850Z",
     "start_time": "2025-01-22T12:15:44.162489Z"
    }
   },
   "cell_type": "code",
   "source": [
    "n = commuter_matrix.values.sum()\n",
    "m = len(distance_matrix.index)\n",
    "\n",
    "site_freq = coo_array((n, m))\n",
    "site_freq[1,2] = 1"
   ],
   "id": "2d076376ffd60a38",
   "outputs": [
    {
     "ename": "TypeError",
     "evalue": "'coo_array' object does not support item assignment",
     "output_type": "error",
     "traceback": [
      "\u001B[0;31m---------------------------------------------------------------------------\u001B[0m",
      "\u001B[0;31mTypeError\u001B[0m                                 Traceback (most recent call last)",
      "Cell \u001B[0;32mIn[14], line 5\u001B[0m\n\u001B[1;32m      2\u001B[0m m \u001B[38;5;241m=\u001B[39m \u001B[38;5;28mlen\u001B[39m(distance_matrix\u001B[38;5;241m.\u001B[39mindex)\n\u001B[1;32m      4\u001B[0m site_freq \u001B[38;5;241m=\u001B[39m coo_array((n, m))\n\u001B[0;32m----> 5\u001B[0m site_freq[\u001B[38;5;241m1\u001B[39m,\u001B[38;5;241m2\u001B[39m] \u001B[38;5;241m=\u001B[39m \u001B[38;5;241m1\u001B[39m\n",
      "\u001B[0;31mTypeError\u001B[0m: 'coo_array' object does not support item assignment"
     ]
    }
   ],
   "execution_count": 14
  },
  {
   "metadata": {},
   "cell_type": "code",
   "outputs": [],
   "execution_count": null,
   "source": [
    "class Commuters:\n",
    "    def __init__(self):"
   ],
   "id": "3429b46fecc88c0"
  }
 ],
 "metadata": {
  "kernelspec": {
   "display_name": "Python 3",
   "language": "python",
   "name": "python3"
  },
  "language_info": {
   "codemirror_mode": {
    "name": "ipython",
    "version": 2
   },
   "file_extension": ".py",
   "mimetype": "text/x-python",
   "name": "python",
   "nbconvert_exporter": "python",
   "pygments_lexer": "ipython2",
   "version": "2.7.6"
  }
 },
 "nbformat": 4,
 "nbformat_minor": 5
}
